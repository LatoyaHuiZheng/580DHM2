{
  "nbformat": 4,
  "nbformat_minor": 0,
  "metadata": {
    "colab": {
      "provenance": [],
      "include_colab_link": true
    },
    "kernelspec": {
      "name": "python3",
      "display_name": "Python 3"
    },
    "language_info": {
      "name": "python"
    }
  },
  "cells": [
    {
      "cell_type": "markdown",
      "metadata": {
        "id": "view-in-github",
        "colab_type": "text"
      },
      "source": [
        "<a href=\"https://colab.research.google.com/github/LatoyaHuiZheng/580DHM2/blob/main/grab_web_data(580D_stock).ipynb\" target=\"_parent\"><img src=\"https://colab.research.google.com/assets/colab-badge.svg\" alt=\"Open In Colab\"/></a>"
      ]
    },
    {
      "cell_type": "code",
      "execution_count": 2,
      "metadata": {
        "id": "AQcVe7xw_74i"
      },
      "outputs": [],
      "source": [
        "# Write a python script to scrape stock price movement in\n",
        "# the US stock market on this webpage:\n",
        "# https://finance.yahoo.com/quote/TSLA/holders"
      ]
    },
    {
      "cell_type": "code",
      "source": [
        "# prompt: Write a python script to scrape stock price movement in the US stock market on this webpage: https://finance.yahoo.com/quote/TSLA/holders\n",
        "\n",
        "!pip install bs4\n",
        "!pip install requests"
      ],
      "metadata": {
        "colab": {
          "base_uri": "https://localhost:8080/"
        },
        "id": "i0c2XR-XA1wR",
        "outputId": "de822ab2-4f56-4457-c047-d42720379d05"
      },
      "execution_count": 3,
      "outputs": [
        {
          "output_type": "stream",
          "name": "stdout",
          "text": [
            "Collecting bs4\n",
            "  Downloading bs4-0.0.2-py2.py3-none-any.whl (1.2 kB)\n",
            "Requirement already satisfied: beautifulsoup4 in /usr/local/lib/python3.10/dist-packages (from bs4) (4.12.3)\n",
            "Requirement already satisfied: soupsieve>1.2 in /usr/local/lib/python3.10/dist-packages (from beautifulsoup4->bs4) (2.5)\n",
            "Installing collected packages: bs4\n",
            "Successfully installed bs4-0.0.2\n",
            "Requirement already satisfied: requests in /usr/local/lib/python3.10/dist-packages (2.31.0)\n",
            "Requirement already satisfied: charset-normalizer<4,>=2 in /usr/local/lib/python3.10/dist-packages (from requests) (3.3.2)\n",
            "Requirement already satisfied: idna<4,>=2.5 in /usr/local/lib/python3.10/dist-packages (from requests) (3.6)\n",
            "Requirement already satisfied: urllib3<3,>=1.21.1 in /usr/local/lib/python3.10/dist-packages (from requests) (2.0.7)\n",
            "Requirement already satisfied: certifi>=2017.4.17 in /usr/local/lib/python3.10/dist-packages (from requests) (2024.2.2)\n"
          ]
        }
      ]
    },
    {
      "cell_type": "code",
      "source": [
        "import json\n",
        "import csv\n",
        "import sys\n",
        "from typing import Any, Dict\n",
        "import requests\n",
        "from bs4 import BeautifulSoup\n",
        "import pandas as pd"
      ],
      "metadata": {
        "id": "Hc_oJfdLCd_B"
      },
      "execution_count": 4,
      "outputs": []
    },
    {
      "cell_type": "code",
      "source": [
        "def get_data(ticker_symbol: str) -> Dict[str, Any]:\n",
        "  \"\"\"\n",
        "  Get stock data for a given ticker symbol from Yahoo Finance.\n",
        "  Parameters:\n",
        "  - ticker_symbol (Any): Ticker symbol of the stock.\n",
        "  Returns:\n",
        "  - Dict[str, Any]: Dictionary containing stock data.\n",
        "  \"\"\"\n",
        "  print('Getting stock data of ', ticker_symbol)\n",
        "\n",
        "  # Set user agent to avoid detection as a scraper\n",
        "  headers = {\n",
        "      'User-Agent': 'Mozilla/5.0 (Macintosh; Intel Mac OS X 10.15; rv:122.0) Gecko/20100101Firefox/122.0'}\n",
        "  url = f'https://finance.yahoo.com/quote/{ticker_symbol}'\n",
        "\n",
        "  r = requests.get(url) #will add timeout here\n",
        "  soup = BeautifulSoup(r.text, 'html.parser')\n",
        "\n",
        "  stock = {\n",
        "    # scraping the stock data from the price indicators\n",
        "    'symbol': ticker_symbol,\n",
        "    'stock_name': soup.find('div', {'class':'D(ib) Mt(-5px) Maw(38%)--tab768 Maw(38%) Mend(10px) Ov(h) smartphone_Maw(85%) smartphone_Mend(0px)'}).find_all('div')[0].text.strip(),\n",
        "    'regularMarketPrice': soup.find('div', {'class':'D(ib) Mend(20px)'}).find_all('fin-streamer')[0].text.strip(),\n",
        "    'regularMarketChange': soup.find('div', {'class':'D(ib) Mend(20px)'}).find_all('fin-streamer')[1].text.strip(),\n",
        "    'regularMarketChangePercent': soup.find('div', {'class':'D(ib) Mend(20px)'}).find_all('fin-streamer')[2].text.strip(),\n",
        "    'quote': soup.find('div', {'class':'D(ib) Mend(20px)'}).find_all('span')[2].text.strip(),\n",
        "\n",
        "    # scraping the stock data from the \"Summary\" table\n",
        "    'previous_close': soup.find('table', {'class':'W(100%)'}).find_all('td')[1].text.strip(),\n",
        "    'open_value': soup.find('table', {'class':'W(100%)'}).find_all('td')[3].text.strip(),\n",
        "    'bid': soup.find('table', {'class':'W(100%)'}).find_all('td')[5].text.strip(),\n",
        "    'ask': soup.find('table', {'class':'W(100%)'}).find_all('td')[7].text.strip(),\n",
        "    'days_range': soup.find('table', {'class':'W(100%)'}).find_all('td')[9].text.strip(),\n",
        "    'week_range': soup.find('table', {'class':'W(100%)'}).find_all('td')[11].text.strip(),\n",
        "    'volume': soup.find('table', {'class':'W(100%)'}).find_all('td')[13].text.strip(),\n",
        "    'avg_volume': soup.find('table', {'class':'W(100%)'}).find_all('td')[5].text.strip(),\n",
        "    'market_cap': soup.find('table', {'class':'W(100%) M(0) Bdcl(c)'}).find_all('td')[1].text.strip(),\n",
        "    'beta': soup.find('table', {'class':'W(100%) M(0) Bdcl(c)'}).find_all('td')[3].text.strip(),\n",
        "    'pe_ratio': soup.find('table', {'class':'W(100%) M(0) Bdcl(c)'}).find_all('td')[5].text.strip(),\n",
        "    'eps': soup.find('table', {'class':'W(100%) M(0) Bdcl(c)'}).find_all('td')[7].text.strip(),\n",
        "    'earnings_date': soup.find('table', {'class':'W(100%) M(0) Bdcl(c)'}).find_all('td')[9].text.strip(),\n",
        "    'dividend_yield': soup.find('table', {'class':'W(100%) M(0) Bdcl(c)'}).find_all('td')[11].text.strip(),\n",
        "    'ex_dividend_date': soup.find('table', {'class':'W(100%) M(0) Bdcl(c)'}).find_all('td')[13].text.strip(),\n",
        "    'year_target_est': soup.find('table', {'class':'W(100%) M(0) Bdcl(c)'}).find_all('td')[15].text.strip(),\n",
        "  }\n",
        "  return stock"
      ],
      "metadata": {
        "id": "dkBZLB_BC_NU"
      },
      "execution_count": 5,
      "outputs": []
    },
    {
      "cell_type": "code",
      "source": [
        "get_data('TSLA')"
      ],
      "metadata": {
        "id": "KMpGpMnWOIhJ",
        "outputId": "e4ca6364-a60d-4262-d9aa-2d592b7ab903",
        "colab": {
          "base_uri": "https://localhost:8080/"
        }
      },
      "execution_count": 6,
      "outputs": [
        {
          "output_type": "stream",
          "name": "stdout",
          "text": [
            "Getting stock data of  TSLA\n"
          ]
        },
        {
          "output_type": "execute_result",
          "data": {
            "text/plain": [
              "{'symbol': 'TSLA',\n",
              " 'stock_name': 'Tesla, Inc. (TSLA)',\n",
              " 'regularMarketPrice': '197.41',\n",
              " 'regularMarketChange': '+2.64',\n",
              " 'regularMarketChangePercent': '(+1.36%)',\n",
              " 'quote': 'At close:  04:00PM EST',\n",
              " 'previous_close': '194.77',\n",
              " 'open_value': '194.00',\n",
              " 'bid': '197.29 x 900',\n",
              " 'ask': '196.79 x 1200',\n",
              " 'days_range': '191.36 - 198.32',\n",
              " 'week_range': '152.37 - 299.29',\n",
              " 'volume': '92,081,183',\n",
              " 'avg_volume': '197.29 x 900',\n",
              " 'market_cap': '628.709B',\n",
              " 'beta': '2.43',\n",
              " 'pe_ratio': '45.80',\n",
              " 'eps': '4.31',\n",
              " 'earnings_date': 'Apr 17, 2024 - Apr 22, 2024',\n",
              " 'dividend_yield': 'N/A (N/A)',\n",
              " 'ex_dividend_date': 'N/A',\n",
              " 'year_target_est': '207.75'}"
            ]
          },
          "metadata": {},
          "execution_count": 6
        }
      ]
    },
    {
      "cell_type": "code",
      "source": [
        "def get_holders(ticker_symbol: str) -> Dict[str, Any]:\n",
        "  headers = {\n",
        "      'User-Agent': 'Mozilla/5.0 (Macintosh; Intel Mac OS X 10.15; rv:122.0) Gecko/20100101Firefox/122.0'}\n",
        "  url = f'https://finance.yahoo.com/quote/{ticker_symbol}/holders'\n",
        "\n",
        "  r = requests.get(url, headers=headers) #will add timeout here\n",
        "\n",
        "  holders_info = {\n",
        "    'symbol': ticker_symbol}\n",
        "\n",
        "  summary_df, institution_df, mutual_fund_df = tokens = pd.read_html(r.text)\n",
        "  for i, (number, holder_name) in enumerate(summary_df.values):\n",
        "    holder_name = holder_name.split('% ')[-1]\n",
        "    holders_info[f'MajorHolders{i + 1}'] = f'{number} {holder_name}'\n",
        "\n",
        "  for i, (holder, share) in enumerate(institution_df[['Holder', '% Out']].values):\n",
        "    holders_info[f'TopInstitutionalHolder{i + 1}'] = f'{holder} {share}'\n",
        "\n",
        "  for i, (holder, share) in enumerate(mutual_fund_df[['Holder', '% Out']].values):\n",
        "    holders_info[f'TopMutualFundHolder{i + 1}'] = f'{holder} {share}'\n",
        "  return holders_info"
      ],
      "metadata": {
        "id": "dvKx1-DnLOVt"
      },
      "execution_count": 7,
      "outputs": []
    },
    {
      "cell_type": "code",
      "source": [
        "def get_profile(ticker_symbol: str) -> Dict[str, Any]:\n",
        "  headers = {\n",
        "      'User-Agent': 'Mozilla/5.0 (Macintosh; Intel Mac OS X 10.15; rv:122.0) Gecko/20100101Firefox/122.0'}\n",
        "  url = f'https://finance.yahoo.com/quote/{ticker_symbol}/profile'\n",
        "\n",
        "  r = requests.get(url, headers=headers) #will add timeout here\n",
        "  executive_df = pd.read_html(r.text)[0]\n",
        "  soup = BeautifulSoup(r.text, 'html.parser')\n",
        "  profile_info = {\n",
        "      'symbol': ticker_symbol,\n",
        "      'StockName': soup.find('h1', {\"class\": \"D(ib) Fz(18px)\"}).text.strip(),\n",
        "      'Address': '; '.join([x.text for x in soup.find('p', {'class':'D(ib) W(47.727%) Pend(40px)'}).children]),\n",
        "      'Description': soup.find('p', {'class': 'Mt(15px) Lh(1.6)'}).text.strip()\n",
        "  }\n",
        "  for i, name in enumerate(executive_df['Name'].tolist()):\n",
        "    profile_info[f'Executive{i+1}'] = name\n",
        "  return profile_info"
      ],
      "metadata": {
        "id": "ADBxx0L5aP9c"
      },
      "execution_count": 8,
      "outputs": []
    },
    {
      "cell_type": "code",
      "source": [
        "get_holders('META')"
      ],
      "metadata": {
        "colab": {
          "base_uri": "https://localhost:8080/"
        },
        "id": "Njrkq_KVLajr",
        "outputId": "80776877-f194-48e6-d2c5-7b1ea4c103be"
      },
      "execution_count": 9,
      "outputs": [
        {
          "output_type": "execute_result",
          "data": {
            "text/plain": [
              "{'symbol': 'META',\n",
              " 'MajorHolders1': '0.17% of Shares Held by All Insider',\n",
              " 'MajorHolders2': '79.60% of Shares Held by Institutions',\n",
              " 'MajorHolders3': '79.73% of Float Held by Institutions',\n",
              " 'MajorHolders4': '4664 Number of Institutions Holding Shares',\n",
              " 'TopInstitutionalHolder1': 'Vanguard Group Inc 8.47%',\n",
              " 'TopInstitutionalHolder2': 'Blackrock Inc. 7.16%',\n",
              " 'TopInstitutionalHolder3': 'FMR, LLC 6.08%',\n",
              " 'TopInstitutionalHolder4': 'State Street Corporation 4.05%',\n",
              " 'TopInstitutionalHolder5': 'JP Morgan Chase & Company 2.23%',\n",
              " 'TopInstitutionalHolder6': 'Geode Capital Management, LLC 2.09%',\n",
              " 'TopInstitutionalHolder7': 'Price (T.Rowe) Associates Inc 2.07%',\n",
              " 'TopInstitutionalHolder8': 'Capital World Investors 1.73%',\n",
              " 'TopInstitutionalHolder9': 'Morgan Stanley 1.65%',\n",
              " 'TopInstitutionalHolder10': 'Capital International Investors 1.58%',\n",
              " 'TopMutualFundHolder1': 'Vanguard Total Stock Market Index Fund 3.15%',\n",
              " 'TopMutualFundHolder2': 'Vanguard 500 Index Fund 2.43%',\n",
              " 'TopMutualFundHolder3': 'Fidelity Contrafund Inc 1.88%',\n",
              " 'TopMutualFundHolder4': 'Growth Fund Of America Inc 1.46%',\n",
              " 'TopMutualFundHolder5': 'Fidelity 500 Index Fund 1.19%',\n",
              " 'TopMutualFundHolder6': 'SPDR S&P 500 ETF Trust 1.15%',\n",
              " 'TopMutualFundHolder7': 'Invesco ETF Tr-Invesco QQQ Tr, Series 1 ETF 1.15%',\n",
              " 'TopMutualFundHolder8': 'iShares Core S&P 500 ETF 1.00%',\n",
              " 'TopMutualFundHolder9': 'Vanguard Growth Index Fund 0.88%',\n",
              " 'TopMutualFundHolder10': 'Vanguard Institutional Index Fund-Institutional Index Fund 0.68%'}"
            ]
          },
          "metadata": {},
          "execution_count": 9
        }
      ]
    },
    {
      "cell_type": "code",
      "source": [
        "get_profile('META')"
      ],
      "metadata": {
        "colab": {
          "base_uri": "https://localhost:8080/"
        },
        "id": "0uBBoM1GLype",
        "outputId": "7881ea1d-92f8-49e7-c33d-e4fad32d87d6"
      },
      "execution_count": 10,
      "outputs": [
        {
          "output_type": "execute_result",
          "data": {
            "text/plain": [
              "{'symbol': 'META',\n",
              " 'StockName': 'Meta Platforms, Inc. (META)',\n",
              " 'Address': '1 Meta Way; ; Menlo Park, CA 94025; ; United States; ; 650 543 4800; ; https://investor.fb.com',\n",
              " 'Description': 'Meta Platforms, Inc. engages in the development of products that enable people to connect and share with friends and family through mobile devices, personal computers, virtual reality headsets, and wearables worldwide. It operates in two segments, Family of Apps and Reality Labs. The Family of Apps segment offers Facebook, which enables people to share, discuss, discover, and connect with interests; Instagram, a community for sharing photos, videos, and private messages, as well as feed, stories, reels, video, live, and shops; Messenger, a messaging application for people to connect with friends, family, communities, and businesses across platforms and devices through text, audio, and video calls; and WhatsApp, a messaging application that is used by people and businesses to communicate and transact privately. The Reality Labs segment provides augmented and virtual reality related products comprising consumer hardware, software, and content that help people feel connected, anytime, and anywhere. The company was formerly known as Facebook, Inc. and changed its name to Meta Platforms, Inc. in October 2021. The company was incorporated in 2004 and is headquartered in Menlo Park, California',\n",
              " 'Executive1': 'Mr. Mark Elliot Zuckerberg',\n",
              " 'Executive2': 'Ms. Susan J. S. Li',\n",
              " 'Executive3': 'Mr. Javier Olivan',\n",
              " 'Executive4': 'Mr. Andrew Bosworth',\n",
              " 'Executive5': 'Mr. Christopher K. Cox',\n",
              " 'Executive6': 'Mr. David M. Wehner',\n",
              " 'Executive7': 'Mr. Aaron A. Anderson',\n",
              " 'Executive8': 'Mr. Atish Banerjea',\n",
              " 'Executive9': 'Ms. Deborah T. Crawford',\n",
              " 'Executive10': 'Ms. Jennifer G. Newstead'}"
            ]
          },
          "metadata": {},
          "execution_count": 10
        }
      ]
    },
    {
      "cell_type": "code",
      "source": [
        "get_holders('TSLA')"
      ],
      "metadata": {
        "id": "nM6E5nwEXogm",
        "outputId": "adb325c2-cc7e-4033-b068-4f2b1297dfaf",
        "colab": {
          "base_uri": "https://localhost:8080/"
        }
      },
      "execution_count": 11,
      "outputs": [
        {
          "output_type": "execute_result",
          "data": {
            "text/plain": [
              "{'symbol': 'TSLA',\n",
              " 'MajorHolders1': '13.00% of Shares Held by All Insider',\n",
              " 'MajorHolders2': '45.74% of Shares Held by Institutions',\n",
              " 'MajorHolders3': '52.58% of Float Held by Institutions',\n",
              " 'MajorHolders4': '3863 Number of Institutions Holding Shares',\n",
              " 'TopInstitutionalHolder1': 'Vanguard Group Inc 7.22%',\n",
              " 'TopInstitutionalHolder2': 'Blackrock Inc. 5.91%',\n",
              " 'TopInstitutionalHolder3': 'State Street Corporation 3.42%',\n",
              " 'TopInstitutionalHolder4': 'Geode Capital Management, LLC 1.74%',\n",
              " 'TopInstitutionalHolder5': 'Capital World Investors 1.29%',\n",
              " 'TopInstitutionalHolder6': 'Morgan Stanley 1.04%',\n",
              " 'TopInstitutionalHolder7': 'Norges Bank Investment Management 0.99%',\n",
              " 'TopInstitutionalHolder8': 'FMR, LLC 0.92%',\n",
              " 'TopInstitutionalHolder9': 'JP Morgan Chase & Company 0.87%',\n",
              " 'TopInstitutionalHolder10': 'Price (T.Rowe) Associates Inc 0.82%',\n",
              " 'TopMutualFundHolder1': 'Vanguard Total Stock Market Index Fund 2.64%',\n",
              " 'TopMutualFundHolder2': 'Vanguard 500 Index Fund 2.08%',\n",
              " 'TopMutualFundHolder3': 'Fidelity 500 Index Fund 1.02%',\n",
              " 'TopMutualFundHolder4': 'SPDR S&P 500 ETF Trust 0.98%',\n",
              " 'TopMutualFundHolder5': 'iShares Core S&P 500 ETF 0.86%',\n",
              " 'TopMutualFundHolder6': 'Invesco ETF Tr-Invesco QQQ Tr, Series 1 ETF 0.81%',\n",
              " 'TopMutualFundHolder7': 'Vanguard Growth Index Fund 0.74%',\n",
              " 'TopMutualFundHolder8': 'Growth Fund Of America Inc 0.70%',\n",
              " 'TopMutualFundHolder9': 'Vanguard Institutional Index Fund-Institutional Index Fund 0.58%',\n",
              " 'TopMutualFundHolder10': 'Select Sector SPDR Fund-Consumer Discretionary 0.42%'}"
            ]
          },
          "metadata": {},
          "execution_count": 11
        }
      ]
    },
    {
      "cell_type": "code",
      "source": [
        "get_holders('AAPL')"
      ],
      "metadata": {
        "id": "MTb2vOeGofiQ",
        "outputId": "2c5d4375-1909-450f-d9b1-c7117290adef",
        "colab": {
          "base_uri": "https://localhost:8080/"
        }
      },
      "execution_count": 12,
      "outputs": [
        {
          "output_type": "execute_result",
          "data": {
            "text/plain": [
              "{'symbol': 'AAPL',\n",
              " 'MajorHolders1': '5.94% of Shares Held by All Insider',\n",
              " 'MajorHolders2': '56.68% of Shares Held by Institutions',\n",
              " 'MajorHolders3': '60.25% of Float Held by Institutions',\n",
              " 'MajorHolders4': '6149 Number of Institutions Holding Shares',\n",
              " 'TopInstitutionalHolder1': 'Vanguard Group Inc 8.54%',\n",
              " 'TopInstitutionalHolder2': 'Blackrock Inc. 6.75%',\n",
              " 'TopInstitutionalHolder3': 'Berkshire Hathaway, Inc 5.86%',\n",
              " 'TopInstitutionalHolder4': 'State Street Corporation 3.80%',\n",
              " 'TopInstitutionalHolder5': 'Geode Capital Management, LLC 1.95%',\n",
              " 'TopInstitutionalHolder6': 'FMR, LLC 1.94%',\n",
              " 'TopInstitutionalHolder7': 'Morgan Stanley 1.41%',\n",
              " 'TopInstitutionalHolder8': 'Price (T.Rowe) Associates Inc 1.37%',\n",
              " 'TopInstitutionalHolder9': 'Norges Bank Investment Management 1.14%',\n",
              " 'TopInstitutionalHolder10': 'Northern Trust Corporation 1.05%',\n",
              " 'TopMutualFundHolder1': 'Vanguard Total Stock Market Index Fund 3.00%',\n",
              " 'TopMutualFundHolder2': 'Vanguard 500 Index Fund 2.29%',\n",
              " 'TopMutualFundHolder3': 'Fidelity 500 Index Fund 1.11%',\n",
              " 'TopMutualFundHolder4': 'SPDR S&P 500 ETF Trust 1.08%',\n",
              " 'TopMutualFundHolder5': 'iShares Core S&P 500 ETF 0.94%',\n",
              " 'TopMutualFundHolder6': 'Vanguard Growth Index Fund 0.83%',\n",
              " 'TopMutualFundHolder7': 'Invesco ETF Tr-Invesco QQQ Tr, Series 1 ETF 0.82%',\n",
              " 'TopMutualFundHolder8': 'Vanguard Institutional Index Fund-Institutional Index Fund 0.64%',\n",
              " 'TopMutualFundHolder9': 'Vanguard Information Technology Index Fund 0.49%',\n",
              " 'TopMutualFundHolder10': 'Select Sector SPDR Fund-Technology 0.43%'}"
            ]
          },
          "metadata": {},
          "execution_count": 12
        }
      ]
    },
    {
      "cell_type": "code",
      "source": [
        "holders_info1 = get_holders('TSLA')\n",
        "holders_info2 = get_holders('AMZN')\n",
        "holders_info3 = get_holders('GOOG')\n",
        "# Assume df1, df2 and df3 are your data frames\n",
        "df1 = pd.DataFrame.from_dict(holders_info1, orient='index').T\n",
        "df2 = pd.DataFrame.from_dict(holders_info2, orient='index').T\n",
        "df3 = pd.DataFrame.from_dict(holders_info3, orient='index').T\n",
        "\n",
        "# Merge data frames\n",
        "combined_df = pd.concat([df1, df2, df3], ignore_index=True)\n",
        "\n",
        "# Save the merged data frame as a CSV file\n",
        "combined_df.to_csv('combined_data.csv', index=False)\n",
        "\n",
        "# save holders data to  Excel file\n",
        "combined_df.to_excel('combined_data.xlsx', index=False)\n",
        "\n",
        "# save holders data to JSON file\n",
        "combined_dict = combined_df.to_dict()\n",
        "with open('combined_dict.json', 'w', encoding='utf-8') as f:\n",
        "    json.dump(combined_dict, f)\n",
        "\n",
        "# download to location\n",
        "from google.colab import files\n",
        "files.download('combined_data.csv')\n",
        "files.download('holders_info.json')\n",
        "files.download('combined_data.xlsx')\n"
      ],
      "metadata": {
        "id": "42Ij9p4goflf",
        "outputId": "f53d6884-50d6-4265-fa48-dac416e5f65a",
        "colab": {
          "base_uri": "https://localhost:8080/",
          "height": 17
        }
      },
      "execution_count": 34,
      "outputs": [
        {
          "output_type": "display_data",
          "data": {
            "text/plain": [
              "<IPython.core.display.Javascript object>"
            ],
            "application/javascript": [
              "\n",
              "    async function download(id, filename, size) {\n",
              "      if (!google.colab.kernel.accessAllowed) {\n",
              "        return;\n",
              "      }\n",
              "      const div = document.createElement('div');\n",
              "      const label = document.createElement('label');\n",
              "      label.textContent = `Downloading \"${filename}\": `;\n",
              "      div.appendChild(label);\n",
              "      const progress = document.createElement('progress');\n",
              "      progress.max = size;\n",
              "      div.appendChild(progress);\n",
              "      document.body.appendChild(div);\n",
              "\n",
              "      const buffers = [];\n",
              "      let downloaded = 0;\n",
              "\n",
              "      const channel = await google.colab.kernel.comms.open(id);\n",
              "      // Send a message to notify the kernel that we're ready.\n",
              "      channel.send({})\n",
              "\n",
              "      for await (const message of channel.messages) {\n",
              "        // Send a message to notify the kernel that we're ready.\n",
              "        channel.send({})\n",
              "        if (message.buffers) {\n",
              "          for (const buffer of message.buffers) {\n",
              "            buffers.push(buffer);\n",
              "            downloaded += buffer.byteLength;\n",
              "            progress.value = downloaded;\n",
              "          }\n",
              "        }\n",
              "      }\n",
              "      const blob = new Blob(buffers, {type: 'application/binary'});\n",
              "      const a = document.createElement('a');\n",
              "      a.href = window.URL.createObjectURL(blob);\n",
              "      a.download = filename;\n",
              "      div.appendChild(a);\n",
              "      a.click();\n",
              "      div.remove();\n",
              "    }\n",
              "  "
            ]
          },
          "metadata": {}
        },
        {
          "output_type": "display_data",
          "data": {
            "text/plain": [
              "<IPython.core.display.Javascript object>"
            ],
            "application/javascript": [
              "download(\"download_88c4e6a0-9ac8-4d7f-8f38-3a309bf7b84a\", \"holders_info.json\", 4594)"
            ]
          },
          "metadata": {}
        }
      ]
    },
    {
      "cell_type": "code",
      "source": [],
      "metadata": {
        "id": "TMI2g1OtSeG3"
      },
      "execution_count": 13,
      "outputs": []
    },
    {
      "cell_type": "code",
      "source": [],
      "metadata": {
        "id": "r19JfoVfSeKC"
      },
      "execution_count": 13,
      "outputs": []
    }
  ]
}